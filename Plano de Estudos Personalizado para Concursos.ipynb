{
  "nbformat": 4,
  "nbformat_minor": 0,
  "metadata": {
    "colab": {
      "provenance": [],
      "include_colab_link": true
    },
    "kernelspec": {
      "name": "python3",
      "display_name": "Python 3"
    },
    "language_info": {
      "name": "python"
    }
  },
  "cells": [
    {
      "cell_type": "markdown",
      "metadata": {
        "id": "view-in-github",
        "colab_type": "text"
      },
      "source": [
        "<a href=\"https://colab.research.google.com/github/Magnols/Sistema-de-Cria-o-de-Plano-de-Estudos-para-Concursos/blob/main/Plano%20de%20Estudos%20Personalizado%20para%20Concursos.ipynb\" target=\"_parent\"><img src=\"https://colab.research.google.com/assets/colab-badge.svg\" alt=\"Open In Colab\"/></a>"
      ]
    },
    {
      "cell_type": "code",
      "source": [
        "!pip -q install google-genai"
      ],
      "metadata": {
        "id": "UCCbECexLk_h"
      },
      "execution_count": 1,
      "outputs": []
    },
    {
      "cell_type": "code",
      "source": [
        "# Configura a API Key do Google Gemini\n",
        "\n",
        "import os\n",
        "from google.colab import userdata\n",
        "\n",
        "os.environ[\"GOOGLE_API_KEY\"] = userdata.get('GOOGLE_API_KEY')"
      ],
      "metadata": {
        "id": "NfCqHo1tLk8P"
      },
      "execution_count": 2,
      "outputs": []
    },
    {
      "cell_type": "code",
      "source": [
        "# Configura o cliente da SDK do Gemini\n",
        "\n",
        "from google import genai\n",
        "\n",
        "client = genai.Client()\n",
        "\n",
        "MODEL_ID = \"gemini-2.0-flash\""
      ],
      "metadata": {
        "id": "bV4w0H5TLk5g"
      },
      "execution_count": 3,
      "outputs": []
    },
    {
      "cell_type": "code",
      "source": [
        "# Instalar Framework de agentes do Google ################################################\n",
        "!pip install -q google-adk"
      ],
      "metadata": {
        "colab": {
          "base_uri": "https://localhost:8080/"
        },
        "id": "a1eRPalxEnj7",
        "outputId": "6f547a6e-4da7-4987-82f3-2d8b32f2aa6c"
      },
      "execution_count": 4,
      "outputs": [
        {
          "output_type": "stream",
          "name": "stdout",
          "text": [
            "\u001b[?25l   \u001b[90m━━━━━━━━━━━━━━━━━━━━━━━━━━━━━━━━━━━━━━━━\u001b[0m \u001b[32m0.0/1.2 MB\u001b[0m \u001b[31m?\u001b[0m eta \u001b[36m-:--:--\u001b[0m\r\u001b[2K   \u001b[91m━━━━━━━━━━━━━\u001b[0m\u001b[90m╺\u001b[0m\u001b[90m━━━━━━━━━━━━━━━━━━━━━━━━━━\u001b[0m \u001b[32m0.4/1.2 MB\u001b[0m \u001b[31m12.5 MB/s\u001b[0m eta \u001b[36m0:00:01\u001b[0m\r\u001b[2K   \u001b[91m━━━━━━━━━━━━━━━━━━━━━━━━━━━━━━━━━━━━━━━\u001b[0m\u001b[91m╸\u001b[0m \u001b[32m1.2/1.2 MB\u001b[0m \u001b[31m20.8 MB/s\u001b[0m eta \u001b[36m0:00:01\u001b[0m\r\u001b[2K   \u001b[90m━━━━━━━━━━━━━━━━━━━━━━━━━━━━━━━━━━━━━━━━\u001b[0m \u001b[32m1.2/1.2 MB\u001b[0m \u001b[31m15.9 MB/s\u001b[0m eta \u001b[36m0:00:00\u001b[0m\n",
            "\u001b[?25h\u001b[?25l   \u001b[90m━━━━━━━━━━━━━━━━━━━━━━━━━━━━━━━━━━━━━━━━\u001b[0m \u001b[32m0.0/232.1 kB\u001b[0m \u001b[31m?\u001b[0m eta \u001b[36m-:--:--\u001b[0m\r\u001b[2K   \u001b[90m━━━━━━━━━━━━━━━━━━━━━━━━━━━━━━━━━━━━━━━━\u001b[0m \u001b[32m232.1/232.1 kB\u001b[0m \u001b[31m18.2 MB/s\u001b[0m eta \u001b[36m0:00:00\u001b[0m\n",
            "\u001b[?25h\u001b[?25l   \u001b[90m━━━━━━━━━━━━━━━━━━━━━━━━━━━━━━━━━━━━━━━━\u001b[0m \u001b[32m0.0/95.2 kB\u001b[0m \u001b[31m?\u001b[0m eta \u001b[36m-:--:--\u001b[0m\r\u001b[2K   \u001b[90m━━━━━━━━━━━━━━━━━━━━━━━━━━━━━━━━━━━━━━━━\u001b[0m \u001b[32m95.2/95.2 kB\u001b[0m \u001b[31m8.7 MB/s\u001b[0m eta \u001b[36m0:00:00\u001b[0m\n",
            "\u001b[?25h\u001b[?25l   \u001b[90m━━━━━━━━━━━━━━━━━━━━━━━━━━━━━━━━━━━━━━━━\u001b[0m \u001b[32m0.0/217.1 kB\u001b[0m \u001b[31m?\u001b[0m eta \u001b[36m-:--:--\u001b[0m\r\u001b[2K   \u001b[90m━━━━━━━━━━━━━━━━━━━━━━━━━━━━━━━━━━━━━━━━\u001b[0m \u001b[32m217.1/217.1 kB\u001b[0m \u001b[31m16.0 MB/s\u001b[0m eta \u001b[36m0:00:00\u001b[0m\n",
            "\u001b[2K   \u001b[90m━━━━━━━━━━━━━━━━━━━━━━━━━━━━━━━━━━━━━━━━\u001b[0m \u001b[32m334.1/334.1 kB\u001b[0m \u001b[31m24.9 MB/s\u001b[0m eta \u001b[36m0:00:00\u001b[0m\n",
            "\u001b[2K   \u001b[90m━━━━━━━━━━━━━━━━━━━━━━━━━━━━━━━━━━━━━━━━\u001b[0m \u001b[32m125.1/125.1 kB\u001b[0m \u001b[31m8.2 MB/s\u001b[0m eta \u001b[36m0:00:00\u001b[0m\n",
            "\u001b[2K   \u001b[90m━━━━━━━━━━━━━━━━━━━━━━━━━━━━━━━━━━━━━━━━\u001b[0m \u001b[32m65.8/65.8 kB\u001b[0m \u001b[31m5.8 MB/s\u001b[0m eta \u001b[36m0:00:00\u001b[0m\n",
            "\u001b[2K   \u001b[90m━━━━━━━━━━━━━━━━━━━━━━━━━━━━━━━━━━━━━━━━\u001b[0m \u001b[32m119.0/119.0 kB\u001b[0m \u001b[31m10.9 MB/s\u001b[0m eta \u001b[36m0:00:00\u001b[0m\n",
            "\u001b[2K   \u001b[90m━━━━━━━━━━━━━━━━━━━━━━━━━━━━━━━━━━━━━━━━\u001b[0m \u001b[32m194.9/194.9 kB\u001b[0m \u001b[31m17.2 MB/s\u001b[0m eta \u001b[36m0:00:00\u001b[0m\n",
            "\u001b[2K   \u001b[90m━━━━━━━━━━━━━━━━━━━━━━━━━━━━━━━━━━━━━━━━\u001b[0m \u001b[32m62.5/62.5 kB\u001b[0m \u001b[31m3.5 MB/s\u001b[0m eta \u001b[36m0:00:00\u001b[0m\n",
            "\u001b[2K   \u001b[90m━━━━━━━━━━━━━━━━━━━━━━━━━━━━━━━━━━━━━━━━\u001b[0m \u001b[32m103.3/103.3 kB\u001b[0m \u001b[31m6.9 MB/s\u001b[0m eta \u001b[36m0:00:00\u001b[0m\n",
            "\u001b[2K   \u001b[90m━━━━━━━━━━━━━━━━━━━━━━━━━━━━━━━━━━━━━━━━\u001b[0m \u001b[32m44.4/44.4 kB\u001b[0m \u001b[31m2.7 MB/s\u001b[0m eta \u001b[36m0:00:00\u001b[0m\n",
            "\u001b[2K   \u001b[90m━━━━━━━━━━━━━━━━━━━━━━━━━━━━━━━━━━━━━━━━\u001b[0m \u001b[32m72.0/72.0 kB\u001b[0m \u001b[31m4.5 MB/s\u001b[0m eta \u001b[36m0:00:00\u001b[0m\n",
            "\u001b[?25h"
          ]
        }
      ]
    },
    {
      "cell_type": "code",
      "execution_count": 5,
      "metadata": {
        "id": "aePV2bdfDeoW"
      },
      "outputs": [],
      "source": [
        "from google.adk.agents import Agent\n",
        "from google.adk.runners import Runner\n",
        "from google.adk.sessions import InMemorySessionService\n",
        "from google.adk.tools import google_search\n",
        "from google.genai import types  # Para criar conteúdos (Content e Part)\n",
        "from datetime import date\n",
        "import textwrap # Para formatar melhor a saída de texto\n",
        "from IPython.display import display, Markdown # Para exibir texto formatado no Colab\n",
        "import requests # Para fazer requisições HTTP\n",
        "import warnings\n",
        "\n",
        "warnings.filterwarnings(\"ignore\")"
      ]
    },
    {
      "cell_type": "code",
      "source": [
        "# Função auxiliar que envia uma mensagem para um agente via Runner e retorna a resposta final\n",
        "def call_agent(agent: Agent, message_text: str) -> str:\n",
        "    # Cria um serviço de sessão em memória\n",
        "    session_service = InMemorySessionService()\n",
        "    # Cria uma nova sessão (você pode personalizar os IDs conforme necessário)\n",
        "    session = session_service.create_session(app_name=agent.name, user_id=\"user1\", session_id=\"session1\")\n",
        "    # Cria um Runner para o agente\n",
        "    runner = Runner(agent=agent, app_name=agent.name, session_service=session_service)\n",
        "    # Cria o conteúdo da mensagem de entrada\n",
        "    content = types.Content(role=\"user\", parts=[types.Part(text=message_text)])\n",
        "\n",
        "    final_response = \"\"\n",
        "    # Itera assincronamente pelos eventos retornados durante a execução do agente\n",
        "    for event in runner.run(user_id=\"user1\", session_id=\"session1\", new_message=content):\n",
        "        if event.is_final_response():\n",
        "          for part in event.content.parts:\n",
        "            if part.text is not None:\n",
        "              final_response += part.text\n",
        "              final_response += \"\\n\"\n",
        "    return final_response"
      ],
      "metadata": {
        "id": "_xP4lWhsS5ko"
      },
      "execution_count": 6,
      "outputs": []
    },
    {
      "cell_type": "code",
      "source": [
        "# Função auxiliar para exibir texto formatado em Markdown no Colab\n",
        "def to_markdown(text):\n",
        "  text = text.replace('•', '  *')\n",
        "  return Markdown(textwrap.indent(text, '> ', predicate=lambda _: True))"
      ],
      "metadata": {
        "id": "8dosiodaxfFR"
      },
      "execution_count": 7,
      "outputs": []
    },
    {
      "cell_type": "code",
      "source": [
        "##########################################\n",
        "# --- Agente 1: Buscador de Concursos --- #\n",
        "##########################################\n",
        "def agente_buscador_concursos(area_atuacao, data_de_hoje):\n",
        "\n",
        "    buscador = Agent(\n",
        "        name=\"agente_buscador_concursos\",\n",
        "        model=\"gemini-2.0-flash\",\n",
        "        instruction=\"\"\"\n",
        "        Você é um especialista em concursos públicos. Sua tarefa é usar a ferramenta de busca do Google (google_search)\n",
        "        para encontrar os concursos previstos e com inscrições abertas para a área de atuação especificada.\n",
        "        Liste no máximo 5 concursos relevantes, priorizando aqueles com maior número de vagas, salários mais atrativos e editais mais recentes.\n",
        "        Inclua informações como o nome do órgão, cargo, nível de escolaridade, salário e período de inscrição.\n",
        "        \"\"\",\n",
        "        description=\"Agente que busca informações sobre concursos públicos no Google\",\n",
        "        tools=[google_search]\n",
        "    )\n",
        "\n",
        "    entrada_do_agente_buscador = f\"Área de atuação: {area_atuacao}\\nData de hoje: {data_de_hoje}\"\n",
        "\n",
        "    concursos = call_agent(buscador, entrada_do_agente_buscador)\n",
        "    return concursos"
      ],
      "metadata": {
        "id": "o8bqIfi_DyH8"
      },
      "execution_count": 16,
      "outputs": []
    },
    {
      "cell_type": "code",
      "source": [
        "################################################\n",
        "# --- Agente 2: Buscador de Conteúdo --- #\n",
        "################################################\n",
        "def agente_buscador_conteudo(area_atuacao, concursos_buscados):\n",
        "    buscador_conteudo = Agent(\n",
        "        name=\"agente_buscador_conteudo\",\n",
        "        model=\"gemini-2.0-flash\",\n",
        "        instruction=\"\"\"\n",
        "        Você é um especialista em encontrar materiais de estudo para concursos. Com base na área de atuação e nos concursos listados,\n",
        "        utilize a ferramenta de busca do Google (google_search) para encontrar:\n",
        "        - Conteúdos relevantes para cada concurso (apostilas, livros, cursos online, PDFs).\n",
        "        - Provas anteriores de concursos iguais ou semelhantes.\n",
        "        - Vídeos no YouTube com aulas e dicas sobre as matérias dos concursos.\n",
        "        Organize os materiais encontrados por concurso, priorizando aqueles mais completos, atualizados e com boas avaliações.\n",
        "        \"\"\",\n",
        "        description=\"Agente que busca materiais de estudo e provas anteriores para concursos\",\n",
        "        tools=[google_search]\n",
        "    )\n",
        "\n",
        "    entrada_do_agente_buscador_conteudo = f\"Área de atuação: {area_atuacao}\\nConcursos buscados: {concursos_buscados}\"\n",
        "    materiais = call_agent(buscador_conteudo, entrada_do_agente_buscador_conteudo)\n",
        "    return materiais"
      ],
      "metadata": {
        "id": "y3VO1uo5_ghO"
      },
      "execution_count": 17,
      "outputs": []
    },
    {
      "cell_type": "code",
      "source": [
        "######################################\n",
        "# --- Agente 3: Planejador de Estudos --- #\n",
        "######################################\n",
        "def agente_planejador_estudos(area_atuacao, materiais_encontrados):\n",
        "    planejador_estudos = Agent(\n",
        "        name=\"agente_planejador_estudos\",\n",
        "        model=\"gemini-2.0-flash\",\n",
        "        instruction=\"\"\"\n",
        "            Você é um especialista em planejamento de estudos para concursos. Com base na área de atuação e nos materiais encontrados,\n",
        "            elabore um plano de estudos detalhado, objetivo e eficiente, que ajude o usuário a ser aprovado no concurso.\n",
        "            O plano deve incluir:\n",
        "            - Cronograma com datas e horários de estudo para cada matéria.\n",
        "            - Lista de conteúdos a serem estudados em cada dia, com links para os materiais encontrados.\n",
        "            - Sugestões de vídeos no YouTube para complementar o estudo.\n",
        "            - Cronograma de simulados para praticar os conteúdos estudados.\n",
        "            - Propostas de redação (se houver essa exigência no concurso), com dicas de estrutura, argumentação e linguagem.\n",
        "            O plano deve ser realista e adaptado ao tempo disponível do usuário.\n",
        "            \"\"\",\n",
        "        description=\"Agente que planeja estudos para concursos\",\n",
        "    )\n",
        "    entrada_do_agente_planejador_estudos = f\"Área de atuação: {area_atuacao}\\nMateriais encontrados: {materiais_encontrados}\"\n",
        "    plano_de_estudos = call_agent(planejador_estudos, entrada_do_agente_planejador_estudos)\n",
        "    return plano_de_estudos"
      ],
      "metadata": {
        "id": "uOqlg2TRLVh1"
      },
      "execution_count": 18,
      "outputs": []
    },
    {
      "cell_type": "code",
      "source": [
        "##########################################\n",
        "# --- Agente 4: Revisor de Qualidade --- #\n",
        "##########################################\n",
        "def agente_revisor_qualidade(area_atuacao, plano_de_estudos):\n",
        "    revisor_qualidade = Agent(\n",
        "        name=\"agente_revisor_qualidade\",\n",
        "        model=\"gemini-2.0-flash\",\n",
        "        instruction=\"\"\"\n",
        "            Você é um revisor de planos de estudos para concursos. Sua tarefa é revisar o plano de estudos gerado,\n",
        "            verificando se ele é claro, coerente, completo e eficiente.\n",
        "            Analise se o cronograma é realista, se os conteúdos são relevantes, se os materiais são adequados\n",
        "            e se as propostas de redação são pertinentes.\n",
        "            Se o plano estiver bom, responda apenas 'O plano de estudos está ótimo e pronto para ser seguido!'.\n",
        "            Caso haja problemas, aponte-os e sugira melhorias.\n",
        "            \"\"\",\n",
        "        description=\"Agente revisor de planos de estudos para concursos.\"\n",
        "    )\n",
        "    entrada_do_agente_revisor_qualidade = f\"Área de atuação: {area_atuacao}\\nPlano de estudos: {plano_de_estudos}\"\n",
        "    plano_revisado = call_agent(revisor_qualidade, entrada_do_agente_revisor_qualidade)\n",
        "    return plano_revisado"
      ],
      "metadata": {
        "id": "_aTb1SdkLeT6"
      },
      "execution_count": 19,
      "outputs": []
    },
    {
      "cell_type": "code",
      "source": [
        "data_de_hoje = date.today().strftime(\"%d/%m/%Y\")\n",
        "\n",
        "print(\"🚀 Iniciando o Sistema de Criação de Plano de Estudos para Concursos 🚀\")\n",
        "\n",
        "# --- Obter a Área de Atuação do Usuário ---\n",
        "area_atuacao = input(\"❓ Por favor, digite a sua ÁREA de atuação: \")\n",
        "\n",
        "# Inserir lógica do sistema de agentes ################################################\n",
        "if not area_atuacao:\n",
        "    print(\"Você esqueceu de digitar a área!\")\n",
        "else:\n",
        "    print(f\"Maravilha! Vamos então criar o plano de estudos para a área de {area_atuacao}\")\n",
        "\n",
        "    concursos_buscados = agente_buscador_concursos(area_atuacao, data_de_hoje)\n",
        "    print(\"\\n--- 📝 Resultado do Agente 1 (Buscador de Concursos) ---\\n\")\n",
        "    display(to_markdown(concursos_buscados))\n",
        "    print(\"--------------------------------------------------------------\")\n",
        "\n",
        "    materiais_encontrados = agente_buscador_conteudo(area_atuacao, concursos_buscados)\n",
        "    print(\"\\n--- 📝 Resultado do Agente 2 (Buscador de Conteúdo) ---\\n\")\n",
        "    display(to_markdown(materiais_encontrados))\n",
        "    print(\"--------------------------------------------------------------\")\n",
        "\n",
        "    plano_de_estudos = agente_planejador_estudos(area_atuacao, materiais_encontrados)\n",
        "    print(\"\\n--- 📝 Resultado do Agente 3 (Planejador de Estudos) ---\\n\")\n",
        "    display(to_markdown(plano_de_estudos))\n",
        "    print(\"--------------------------------------------------------------\")\n",
        "\n",
        "    plano_final = agente_revisor_qualidade(area_atuacao, plano_de_estudos)\n",
        "    print(\"\\n--- 📝 Resultado do Agente 4 (Revisor de Qualidade) ---\\n\")\n",
        "    display(to_markdown(plano_final))\n",
        "    print(\"--------------------------------------------------------------\")"
      ],
      "metadata": {
        "colab": {
          "base_uri": "https://localhost:8080/",
          "height": 1000
        },
        "id": "6xzI6LKzxxnN",
        "outputId": "39101bbf-d3c3-45d5-e462-9c0fb90db35a"
      },
      "execution_count": 20,
      "outputs": [
        {
          "output_type": "stream",
          "name": "stdout",
          "text": [
            "🚀 Iniciando o Sistema de Criação de Plano de Estudos para Concursos 🚀\n",
            "❓ Por favor, digite a sua ÁREA de atuação: ATB (Assistente Técnico de Educação Básica)\n",
            "Maravilha! Vamos então criar o plano de estudos para a área de ATB (Assistente Técnico de Educação Básica)\n",
            "\n",
            "--- 📝 Resultado do Agente 1 (Buscador de Concursos) ---\n",
            "\n"
          ]
        },
        {
          "output_type": "display_data",
          "data": {
            "text/plain": [
              "<IPython.core.display.Markdown object>"
            ],
            "text/markdown": "> Com base nas informações encontradas, há um concurso público em Minas Gerais para o cargo de Assistente Técnico de Educação Básica (ATB).\n> \n> **Concurso SEE MG 2025**\n> \n> *   **Órgão:** Secretaria de Estado de Educação de Minas Gerais (SEE MG)\n> *   **Cargo:** Assistente Técnico de Educação Básica (ATB)\n> *   **Escolaridade:** Ensino Médio/Técnico - Diploma de curso técnico de nível médio ou curso de formação em nível médio na modalidade Normal (Magistério), legalmente reconhecido.\n> *   **Salário:** R$1.917,11\n> *   **Vagas:** 2.089 + Cadastro de Reserva\n> *   **Inscrições:** 21 de julho de 2025 a 21 de agosto de 2025\n> *   **Taxa de Inscrição:** R$ 27,50\n> *   **Banca:** Consulplan\n> *   **Data da Prova:** 28 de setembro de 2025\n> *   **Local de Trabalho:** Unidade Central, nas Superintendências Regionais de Ensino (SRE) e nas Unidades Escolares\n> \n> **Atribuições do cargo de ATB (Assistente Técnico de Educação Básica):**\n> \n> *   Participar do planejamento, elaboração, execução e avaliação do plano de desenvolvimento pedagógico e institucional da escola.\n> *   Organizar e manter atualizados cadastros, arquivos, fichários, livros e outros instrumentos de escrituração da escola.\n> *   Organizar e manter atualizado o sistema de informações legais e regulamentares de interesse da escola.\n> *   Redigir ofícios, exposições de motivos, atas e outros expedientes.\n> *   Coletar, apurar, selecionar, registrar e consolidar dados para a elaboração de informações estatísticas.\n> *   Realizar trabalhos de digitação e mecanografia.\n> *   Realizar trabalhos de protocolização, preparo, seleção, classificação, registro e arquivamento de documentos e formulários.\n> *   Atender, orientar e encaminhar o público.\n> *   Auxiliar na organização, manutenção e atendimento em biblioteca escolar e sala de multimeios.\n> *   Auxiliar no cuidado e na distribuição de material esportivo, de laboratórios, de oficinas pedagógicas e outros sob sua guarda.\n> *   Exercer outras atividades integrantes do plano de desenvolvimento pedagógico e institucional da escola, previstas no regulamento desta Lei e no regimento escolar.\n> \n> **Etapas do Concurso:**\n> \n> 1.  Prova Objetiva (eliminatório e classificatório)\n> 2.  Redação (eliminatório e classificatório)\n> 3.  Avaliação de Títulos (classificatório, apenas para cargos de nível superior)\n> \n> **Como se Inscrever:**\n> \n> *   As inscrições serão realizadas exclusivamente online, no site da Consulplan ([www.consulplan.net](http://www.consulplan.net/)).\n> *   O candidato deverá preencher o Requerimento Eletrônico de Inscrição, indicando a opção da carreira/cargo/área de atuação, bem como a SRE/Unidade Central.\n> *   Após a inscrição, o candidato deverá gerar e imprimir o Documento de Arrecadação Estadual (DAE) e efetuar o pagamento até o dia 22 de agosto de 2025.\n> \n> Recomenda-se a leitura atenta do edital completo para確認詳細情報, bem como para verificar o conteúdo programático das provas.\n> \n"
          },
          "metadata": {}
        },
        {
          "output_type": "stream",
          "name": "stdout",
          "text": [
            "--------------------------------------------------------------\n",
            "\n",
            "--- 📝 Resultado do Agente 2 (Buscador de Conteúdo) ---\n",
            "\n"
          ]
        },
        {
          "output_type": "display_data",
          "data": {
            "text/plain": [
              "<IPython.core.display.Markdown object>"
            ],
            "text/markdown": "> Com base nas informações fornecidas sobre o concurso SEE MG 2025 para o cargo de Assistente Técnico de Educação Básica (ATB), preparei uma lista de materiais de estudo, provas anteriores e videoaulas que podem te auxiliar na preparação:\n> \n> \n> Para te ajudar na sua preparação para o concurso SEE MG 2025 para o cargo de Assistente Técnico de Educação Básica (ATB), organizei os seguintes materiais de estudo:\n> \n> **1. Apostilas e Materiais de Estudo:**\n> \n> *   **Apostila SEE MG 2025 - Assistente Técnico da Educação Básica (ATB) - Solução Cursos e Concursos:** Elaborada de acordo com o edital de maio de 2025, esta apostila aborda Língua Portuguesa, Matemática Aplicada, Direitos Humanos, Conhecimentos Específicos, Conteúdo Complementar, Redação Discursiva e Legislação Educacional.\n> *   **Apostila SEE-MG - Assistente Técnico da Educação Básica - ATB - Nova Concursos:**  Apresenta conteúdo completo e atualizado, de acordo com o Edital SEPLAG/SEE nº 03/2023. O material é elaborado por professores especialistas em concursos.\n> *   **Apostila SEE-MG - Assistente Técnico de Educação Básica (ATB):** Contém conteúdo completo, materiais digitais e questões gabaritadas.\n> *   **Opção Apostilas:** Oferece apostilas para SEE-MG - Assistente Técnico de Educação Básica (ATB).\n> \n> **2. Provas Anteriores:**\n> \n> *   **Consulte o site da Consulplan:** A banca Consulplan é a responsável pela organização do concurso SEE MG 2025. No site da Consulplan e também em outros sites especializados em concursos, você pode encontrar provas anteriores elaboradas pela banca para concursos similares.\n> *   **JC Concursos e Ética Concursos:** Nestes sites, é possível encontrar provas anteriores da SEE-MG para download.\n> *   **PCI Concursos:** Oferece provas para download do cargo de Assistente Técnico da Educação Básica de anos anteriores.\n> *    **Qconcursos:**  Disponibiliza provas de concursos anteriores da FGV para o cargo de Assistente Técnico da Educação Básica (ATB).\n> *   **FGV Conhecimento:**  Disponibiliza a prova de Assistente Técnico da Educação Básica (ATB) aplicada em 29/10/2023.\n> \n> **3. Videoaulas e Cursos Online:**\n> \n> *   **Estratégia Concursos:** Oferece pacotes de cursos online em PDF e videoaulas para o SEE-MG (Assistente Técnico da Educação Básica - ATB).\n> *   **Bravo Concursos:**  Disponibiliza cursos completos com videoaulas e apostilas para download.\n> *   **Cursos de Português:**\n>     *   **Português com Letícia:**  Aulas e dicas de português para concursos.\n>     *   **Prof. Álvaro Ferreira:** Oferece cursos completos de português com teoria e questões.\n>     *   **Aprova Concursos:**  Disponibiliza videoaulas sobre temas de português para concursos.\n> *   **Cursos de Redação:**\n>     *   **Professora Pamba:** Curso completo de redação com diversos temas.\n>     *   **Prof. Álvaro Ferreira:** Guia completo com o passo a passo de redação para concurso.\n>     *   **Gran Cursos Online:** Curso gratuito sobre redação para concursos.\n> \n> **4. Conteúdo Específico e Temas Importantes:**\n> \n> *   **Legislação Educacional:**\n>     *   **Leis Importantes:** É fundamental estudar a Constituição da República Federativa do Brasil de 1988, a Lei de Diretrizes e Bases da Educação (LDB) 9.394/96, o Estatuto da Criança e do Adolescente (ECA) 8.069/90 e a Lei Brasileira de Inclusão (LBI).\n>     *   **Artigos Essenciais da LDB:** Artigos 1°, 2°, 3° e 4°; 12 e 13; 14; 21 ao 38; 58 a 60.\n>     *   **Cursos e Aulas:** Os Pedagógicos oferece aulas sobre legislação educacional.\n> *   **Redação:**\n>     *   **Estrutura:** Aprenda a estruturar um texto dissertativo-argumentativo com introdução, desenvolvimento e conclusão.\n>     *   **Dicas:** Utilize conectivos para garantir a coesão do texto e vocabulário adequado.\n> *   **Informática:**\n>     * Dominar as ferramentas de informática é essencial para o cargo.\n> \n> **5. Plataformas de Questões e Simulados:**\n> \n> *   **Qconcursos:** Possui questões, provas e concursos da banca Consulplan.\n> *   **Tec Concursos:** Oferece questões e concursos recentes da Consulplan.\n> \n> **Recomendações:**\n> \n> *   **Leia o Edital:** É crucial ler o edital completo do concurso SEE MG 2025 para confirmar todas as informações e o conteúdo programático das provas.\n> *   **Organize seus Estudos:** Crie um cronograma de estudos, distribuindo as matérias e revisando os conteúdos regularmente.\n> *   **Resolva Questões:** Utilize provas anteriores e questões de concursos para praticar e se familiarizar com o estilo da banca Consulplan.\n> *   **Mantenha-se Atualizado:** Acompanhe as notícias e informações sobre o concurso nos sites oficiais e em canais especializados.\n> \n> Espero que este guia completo te ajude a se preparar de forma eficaz e alcançar a aprovação no concurso SEE MG 2025!\n> \n"
          },
          "metadata": {}
        },
        {
          "output_type": "stream",
          "name": "stdout",
          "text": [
            "--------------------------------------------------------------\n",
            "\n",
            "--- 📝 Resultado do Agente 3 (Planejador de Estudos) ---\n",
            "\n"
          ]
        },
        {
          "output_type": "display_data",
          "data": {
            "text/plain": [
              "<IPython.core.display.Markdown object>"
            ],
            "text/markdown": "> ## Plano de Estudos Detalhado para SEE MG 2025 - ATB\n> \n> **Objetivo:** Aprovação no concurso SEE MG 2025 para o cargo de Assistente Técnico de Educação Básica (ATB).\n> \n> **Considerações Iniciais:**\n> \n> *   Este plano de estudos é um modelo, adaptável à sua rotina, tempo disponível e ritmo de aprendizado.\n> *   Priorize os conteúdos com maior peso na prova e aqueles que você tem mais dificuldade.\n> *   Reserve tempo para descanso e lazer, o que é fundamental para um bom desempenho.\n> *   Acompanhe as atualizações do edital e ajuste o plano se necessário.\n> \n> **Cronograma Semanal:**\n> \n> *   **Segunda a Sexta:** Dedique 4 horas diárias aos estudos (ajuste conforme sua disponibilidade).\n> *   **Sábado:** Revisão dos conteúdos da semana e simulado.\n> *   **Domingo:** Descanso e atividades de lazer.\n> \n> **Distribuição das Matérias:**\n> \n> | Dia da Semana | Manhã (2h)        | Tarde (2h)          |\n> | :------------ | :----------------- | :------------------- |\n> | Segunda       | Língua Portuguesa  | Legislação Educacional |\n> | Terça        | Matemática Aplicada | Conhecimentos Específicos |\n> | Quarta       | Língua Portuguesa  | Redação Discursiva   |\n> | Quinta        | Direitos Humanos   | Informática           |\n> | Sexta        | Legislação Educacional | Conhecimentos Específicos |\n> \n> **Conteúdo Detalhado e Materiais:**\n> \n> **Semana 1:**\n> \n> *   **Língua Portuguesa (Segunda e Quarta):**\n>     *   Interpretação de textos (apostila SEE MG 2025 - Solução Cursos e Concursos).\n>         *   Vídeo complementar: [Interpretação de Textos - Português com Letícia](https://www.youtube.com/playlist?list=PLgMDmO5zNVPOzTV8hpcNu-2r0M587aJ4J)\n>     *   Gramática (apostila SEE-MG - Nova Concursos).\n>         *   Vídeo complementar: [Curso de Português Completo - Prof. Álvaro Ferreira](https://www.youtube.com/@ProfessorAlvaroFerreira)\n>     *   Conteúdo: Significado das palavras; Relações entre as orações; Concordância verbal e nominal; Regência verbal e nominal; Colocação pronominal; Acentuação gráfica; Pontuação.\n> *   **Matemática Aplicada (Terça):**\n>     *   Números inteiros, racionais e reais (apostila SEE MG 2025 - Solução Cursos e Concursos).\n>     *   Sistemas de medidas (apostila SEE-MG - Nova Concursos).\n>     *   Conteúdo: Sistemas de numeração; Operações básicas; Equações e inequações do 1º e 2º graus; Porcentagem; Juros simples; Regra de três simples e composta.\n> *   **Direitos Humanos (Quinta):**\n>     *   Declaração Universal dos Direitos Humanos (apostila SEE MG 2025 - Solução Cursos e Concursos).\n>     *   Estatuto da Criança e do Adolescente (ECA) (Lei 8.069/90).\n>     *   Vídeo complementar: [ECA comentado - Gran Cursos Online](https://www.youtube.com/watch?v=WX9JqJkQ1eM)\n> *   **Legislação Educacional (Segunda e Sexta):**\n>     *   Constituição da República Federativa do Brasil de 1988 (artigos 205 a 214) (apostila SEE MG 2025 - Solução Cursos e Concursos).\n>         *   Vídeo complementar: [Direito à Educação na Constituição - Os Pedagógicos](https://www.youtube.com/watch?v=24R0wJ_yV0I)\n>     *   Lei de Diretrizes e Bases da Educação (LDB) 9.394/96 (Artigos 1°, 2°, 3° e 4°; 12 e 13; 14; 21 ao 38; 58 a 60).\n> *   **Conhecimentos Específicos (Terça e Sexta):**\n>     *   Organização da Educação Básica (apostila SEE MG 2025 - Solução Cursos e Concursos).\n>     *   Gestão Escolar (apostila SEE-MG - Nova Concursos).\n> *   **Redação Discursiva (Quarta):**\n>     *   Estrutura do texto dissertativo-argumentativo (apostila SEE MG 2025 - Solução Cursos e Concursos).\n>         *   Vídeo complementar: [Curso de Redação para Concursos - Professora Pamba](https://www.youtube.com/playlist?list=PLgik-N_dJRNm53e_b_L09t07G9v1HjQjI)\n>     *   Tema: \"O papel do Assistente Técnico da Educação Básica na promoção de uma educação inclusiva\".\n> *   **Informática (Quinta):**\n>     *   Conceitos básicos de hardware e software (apostila SEE MG 2025 - Solução Cursos e Concursos).\n>     *   Sistema operacional Windows (apostila SEE-MG - Nova Concursos).\n>     *   Vídeo complementar: [Informática para Concursos - Curso Completo](https://www.youtube.com/watch?v=qMwy5H8-7iI)\n> \n> **Semana 2 em diante:**\n> \n> *   Continue o estudo das matérias, aprofundando os conteúdos e resolvendo questões de concursos anteriores (Qconcursos e Tec Concursos).\n> *   A cada semana, alterne os temas da redação discursiva e pratique a escrita.\n> \n> **Simulados:**\n> \n> *   **Semana 2:** Simulado com questões de Língua Portuguesa e Legislação Educacional (utilize provas anteriores da Consulplan).\n> *   **Semana 4:** Simulado com questões de Matemática Aplicada, Direitos Humanos e Informática.\n> *   **Semana 6:** Simulado completo com todas as matérias do concurso.\n> \n> **Propostas de Redação:**\n> \n> 1.  **O papel do Assistente Técnico da Educação Básica na promoção de uma educação inclusiva:**\n>     *   **Estrutura:** Introdução (contextualização e tese), desenvolvimento (argumentos e exemplos), conclusão (retomada da tese e proposta de intervenção).\n>     *   **Argumentação:** Importância da inclusão, desafios enfrentados, atuação do ATB na promoção da inclusão.\n> 2.  **A importância da gestão escolar eficiente para o sucesso do processo educativo:**\n>     *   **Estrutura:** Introdução (contextualização e tese), desenvolvimento (argumentos e exemplos), conclusão (retomada da tese e proposta de intervenção).\n>     *   **Argumentação:** Impacto da gestão na qualidade do ensino, desafios da gestão escolar, papel do ATB no apoio à gestão.\n> 3.  **O uso da tecnologia como ferramenta de apoio pedagógico na educação básica:**\n>     *   **Estrutura:** Introdução (contextualização e tese), desenvolvimento (argumentos e exemplos), conclusão (retomada da tese e proposta de intervenção).\n>     *   **Argumentação:** Benefícios da tecnologia na educação, desafios da implementação, papel do ATB no suporte tecnológico.\n> \n> **Dicas de Redação:**\n> \n> *   Utilize a norma culta da língua portuguesa.\n> *   Evite repetições e clichês.\n> *   Seja objetivo e claro na sua argumentação.\n> *   Apresente propostas de intervenção viáveis e relevantes.\n> \n> Lembre-se de que este é um plano de estudos flexível. Adapte-o às suas necessidades e não desista!\n> \n> **Materiais Complementares:**\n> \n> *   **Vídeos:** Procure por videoaulas sobre os temas específicos do concurso no YouTube e em plataformas de cursos online.\n> *   **Sites:** Acompanhe sites especializados em concursos para ficar por dentro das novidades e dicas de estudo.\n> *   **Grupos de estudo:** Participe de grupos de estudo online para trocar informações e tirar dúvidas com outros candidatos.\n> \n> Boa sorte nos seus estudos!\n> \n"
          },
          "metadata": {}
        },
        {
          "output_type": "stream",
          "name": "stdout",
          "text": [
            "--------------------------------------------------------------\n",
            "\n",
            "--- 📝 Resultado do Agente 4 (Revisor de Qualidade) ---\n",
            "\n"
          ]
        },
        {
          "output_type": "display_data",
          "data": {
            "text/plain": [
              "<IPython.core.display.Markdown object>"
            ],
            "text/markdown": "> O plano de estudos está bom, mas precisa de alguns ajustes para otimizar o aprendizado e a organização.\n> \n> **Problemas e Sugestões:**\n> \n> 1.  **Falta de Especificidade nos Conhecimentos Específicos:**\n>     *   **Problema:** O tópico \"Conhecimentos Específicos\" está muito genérico. \"Organização da Educação Básica\" e \"Gestão Escolar\" são temas amplos.\n>     *   **Sugestão:** Detalhe os subtópicos dentro de \"Organização da Educação Básica\" (ex: níveis e modalidades de ensino, estrutura do sistema educacional) e \"Gestão Escolar\" (ex: gestão democrática, planejamento participativo, Conselho Escolar, Projeto Político Pedagógico). Isso facilita o direcionamento do estudo.\n> \n> 2.  **Cronograma Semanal:**\n>     *   **Problema:** A distribuição das matérias ao longo da semana parece um pouco rígida. Manter a mesma sequência todas as semanas pode ser monótono e menos eficiente a longo prazo.\n>     *   **Sugestão:** Varie a ordem das matérias a cada semana para evitar o cansaço mental e trabalhar diferentes áreas do conhecimento em momentos distintos. Por exemplo, inverta a ordem das matérias da manhã e da tarde em alguns dias.\n> \n> 3.  **Materiais:**\n>     *   **Problema:** Confiar apenas em duas apostilas e vídeos complementares pode não ser suficiente.\n>     *   **Sugestão:** Inclua livros de referência (caso existam para a área de ATB), PDFs de autores renomados em educação, e artigos científicos sobre temas relevantes. Isso enriquece o aprendizado e oferece diferentes perspectivas.\n> \n> 4.  **Simulados:**\n>     *   **Problema:** A frequência dos simulados (a cada duas semanas) pode ser insuficiente.\n>     *   **Sugestão:** Aumente a frequência para, pelo menos, um simulado por semana (aos sábados, conforme já previsto). Além dos simulados temáticos (por matéria), inclua simulados completos desde o início para se familiarizar com o formato da prova e o tempo de resolução.\n> \n> 5.  **Propostas de Redação:**\n>     *   **Problema:** As propostas são boas, mas podem ficar repetitivas com o tempo.\n>     *   **Sugestão:** Busque outras propostas de redação em provas anteriores da banca examinadora (Consulplan) ou de concursos similares. Diversifique os temas para treinar diferentes habilidades argumentativas.\n> \n> 6.  **Vídeos Complementares:**\n>     *   **Problema:** Os links de vídeos são ótimos, mas podem se tornar desatualizados com o tempo.\n>     *   **Sugestão:** Periodicamente, revise os links para garantir que os vídeos ainda estão disponíveis e relevantes. Busque por vídeos mais recentes sobre os mesmos temas.\n> \n> 7. **Materiais:**\n>     *   **Problema:** É importante considerar a disponibilidade e o custo dos materiais sugeridos.\n>     *   **Sugestão:** Priorize materiais gratuitos ou de baixo custo, como PDFs, artigos online e videoaulas. Utilize a biblioteca pública da sua cidade ou da sua instituição de ensino para acessar livros e revistas especializadas.\n> \n> 8. **Conhecimentos Específicos:**\n>     *   **Problema:** O plano não especifica quais são os conhecimentos específicos da área de atuação do ATB.\n>     *   **Sugestão:** Inclua no plano de estudos os conhecimentos específicos da área de atuação do ATB, como legislação específica, normas e regulamentos da SEE-MG, rotinas administrativas, atendimento ao público, organização de arquivos e documentos, etc.\n> \n> **Plano de estudos revisado:**\n> \n> Com as alterações supracitadas, o plano de estudos estará completo e pronto para ser seguido.\n"
          },
          "metadata": {}
        },
        {
          "output_type": "stream",
          "name": "stdout",
          "text": [
            "--------------------------------------------------------------\n"
          ]
        }
      ]
    }
  ]
}